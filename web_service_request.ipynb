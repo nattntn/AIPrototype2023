{
  "nbformat": 4,
  "nbformat_minor": 0,
  "metadata": {
    "colab": {
      "provenance": [],
      "authorship_tag": "ABX9TyOEWfFUFwBvfz7UjgXzk6Ud",
      "include_colab_link": true
    },
    "kernelspec": {
      "name": "python3",
      "display_name": "Python 3"
    },
    "language_info": {
      "name": "python"
    }
  },
  "cells": [
    {
      "cell_type": "markdown",
      "metadata": {
        "id": "view-in-github",
        "colab_type": "text"
      },
      "source": [
        "<a href=\"https://colab.research.google.com/github/nattntn/AIPrototype2023/blob/main/web_service_request.ipynb\" target=\"_parent\"><img src=\"https://colab.research.google.com/assets/colab-badge.svg\" alt=\"Open In Colab\"/></a>"
      ]
    },
    {
      "cell_type": "code",
      "source": [
        "import requests\n",
        "import json"
      ],
      "metadata": {
        "id": "2Waro_1lh39C"
      },
      "execution_count": 1,
      "outputs": []
    },
    {
      "cell_type": "code",
      "source": [
        "url = 'http://20.249.99.43:5001/request'\n",
        "myobj = {'message_key': 'message_val',\n",
        "         'msg':'สวัสดีไทยแลนด์'} #json\n",
        "\n",
        "x = requests.post(url, data = json.dumps(myobj)) #requests ใช้เรียก // data // รับ output จาก webb"
      ],
      "metadata": {
        "id": "LPVGCh-gh8Se"
      },
      "execution_count": 3,
      "outputs": []
    },
    {
      "cell_type": "code",
      "source": [
        "print(x.text)"
      ],
      "metadata": {
        "colab": {
          "base_uri": "https://localhost:8080/"
        },
        "id": "fHIjRIjajDgT",
        "outputId": "81ecc454-dc15-4ba2-ba3c-3ddeb5cde80f"
      },
      "execution_count": 4,
      "outputs": [
        {
          "output_type": "stream",
          "name": "stdout",
          "text": [
            "{\"y\": \"received!\"}\n"
          ]
        }
      ]
    },
    {
      "cell_type": "code",
      "source": [
        "print(x.json())"
      ],
      "metadata": {
        "colab": {
          "base_uri": "https://localhost:8080/"
        },
        "id": "VlL83n0sjK4v",
        "outputId": "21e032b6-4eaf-4dae-d54c-1481b92db1c4"
      },
      "execution_count": 5,
      "outputs": [
        {
          "output_type": "stream",
          "name": "stdout",
          "text": [
            "{'y': 'received!'}\n"
          ]
        }
      ]
    },
    {
      "cell_type": "code",
      "source": [
        "d_out = x.json()"
      ],
      "metadata": {
        "id": "YY3KyUEpjSqR"
      },
      "execution_count": 6,
      "outputs": []
    },
    {
      "cell_type": "code",
      "source": [
        "d_out['y']"
      ],
      "metadata": {
        "colab": {
          "base_uri": "https://localhost:8080/",
          "height": 36
        },
        "id": "Pmrn582rjXnb",
        "outputId": "8069e469-c70b-4da1-b22f-b752ad78a568"
      },
      "execution_count": 7,
      "outputs": [
        {
          "output_type": "execute_result",
          "data": {
            "text/plain": [
              "'received!'"
            ],
            "application/vnd.google.colaboratory.intrinsic+json": {
              "type": "string"
            }
          },
          "metadata": {},
          "execution_count": 7
        }
      ]
    }
  ]
}